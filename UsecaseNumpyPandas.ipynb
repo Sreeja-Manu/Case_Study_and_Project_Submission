{
 "cells": [
  {
   "cell_type": "markdown",
   "metadata": {},
   "source": [
    "## Usecases for numpy and pandas"
   ]
  },
  {
   "cell_type": "markdown",
   "metadata": {},
   "source": [
    "***"
   ]
  },
  {
   "cell_type": "markdown",
   "metadata": {},
   "source": [
    "### Qn.1. Write a Python program which accepts a list named: randomList=[ 'a',0,2]Use exception handling using try-catch"
   ]
  },
  {
   "cell_type": "code",
   "execution_count": 1,
   "metadata": {},
   "outputs": [
    {
     "name": "stdout",
     "output_type": "stream",
     "text": [
      "The entry is a\n",
      "Oops! <class 'TypeError'> occurred\n",
      "Next entry\n",
      "\n",
      "The entry is 0\n",
      "Oops! <class 'ZeroDivisionError'> occurred\n",
      "Next entry\n",
      "\n",
      "The entry is 2\n",
      "The reciprocal of 2 is 0.5\n"
     ]
    }
   ],
   "source": [
    "import sys\n",
    "\n",
    "randomList=['a',0,2]\n",
    "\n",
    "for item in randomList:\n",
    "    try:\n",
    "        print(\"The entry is\",item)\n",
    "        r=1/item\n",
    "        break\n",
    "    except:\n",
    "        \n",
    "        print(\"Oops!\",sys.exc_info()[0],\"occurred\")\n",
    "        print(\"Next entry\")\n",
    "        print()\n",
    "\n",
    "print(\"The reciprocal of\",item,\"is\",r)"
   ]
  },
  {
   "cell_type": "markdown",
   "metadata": {},
   "source": [
    "### Qn.2.Write a Python program to give exception \"Array Out of Bound\" if the user wants to access the elements beyond the list size(use try and except)"
   ]
  },
  {
   "cell_type": "code",
   "execution_count": 2,
   "metadata": {},
   "outputs": [
    {
     "name": "stdout",
     "output_type": "stream",
     "text": [
      "Value at index 1\n",
      "is 2\n",
      "Value at index 2\n",
      "is 3\n",
      "Value at index 3\n",
      "is 4\n",
      "Value at index 4\n",
      "\n",
      "Your list does not contain anymore elements\n",
      "Array out of bound  <class 'IndexError'>\n"
     ]
    }
   ],
   "source": [
    "import sys\n",
    "l=[1,2,3,4]\n",
    "i=0\n",
    "for i in l:  \n",
    "    try:       \n",
    "        print(\"Value at index\",i)\n",
    "        print(\"is\",l[i])\n",
    "\n",
    "    except:\n",
    "        print(\"\\nYour list does not contain anymore elements\")\n",
    "        print(\"Array out of bound \",sys.exc_info()[0])"
   ]
  },
  {
   "cell_type": "markdown",
   "metadata": {},
   "source": [
    "### Qn.3  Write a python module script that contains fib2() method to calculate the Fibonacci series till 1000 and save it as fibo.py"
   ]
  },
  {
   "cell_type": "code",
   "execution_count": 3,
   "metadata": {},
   "outputs": [],
   "source": [
    "def fib2(n):\n",
    "    a=0\n",
    "    b=1\n",
    "    print(a)\n",
    "    while b<n:\n",
    "        print(b)\n",
    "        a, b=b,a+b"
   ]
  },
  {
   "cell_type": "code",
   "execution_count": 4,
   "metadata": {},
   "outputs": [
    {
     "name": "stdout",
     "output_type": "stream",
     "text": [
      "0\n",
      "1\n",
      "1\n",
      "2\n",
      "3\n",
      "5\n",
      "8\n",
      "13\n",
      "21\n",
      "34\n",
      "55\n",
      "89\n",
      "144\n",
      "233\n",
      "377\n",
      "610\n",
      "987\n"
     ]
    }
   ],
   "source": [
    "#To run this program as a module, I need to import the module as\n",
    "#import fibo \n",
    "#fibo.fib2(1000)\n",
    "\n",
    "\n",
    "fib2(1000)"
   ]
  },
  {
   "cell_type": "markdown",
   "metadata": {},
   "source": [
    "### Qn.4.Write a Python module script that contains is palindrome() method to calculate the input string as palindrome string or not and save it as palindrome.py"
   ]
  },
  {
   "cell_type": "code",
   "execution_count": 5,
   "metadata": {},
   "outputs": [],
   "source": [
    "def ispalindrome(s):\n",
    "        s=str(s)\n",
    "        s=s.lower()\n",
    "        rev=reversed(s)\n",
    "        if list(s) == list(rev):\n",
    "            return True\n",
    "        return False"
   ]
  },
  {
   "cell_type": "code",
   "execution_count": 6,
   "metadata": {},
   "outputs": [
    {
     "data": {
      "text/plain": [
       "True"
      ]
     },
     "execution_count": 6,
     "metadata": {},
     "output_type": "execute_result"
    }
   ],
   "source": [
    "# To run this program I need to import the module as\n",
    "        #import palindrome\n",
    "        #ispalindrome('malayalam')\n",
    "        #ispalindrome(121)\n",
    "        #ispalindrome('any')\n",
    "ispalindrome('malayalam')"
   ]
  },
  {
   "cell_type": "code",
   "execution_count": 7,
   "metadata": {},
   "outputs": [
    {
     "data": {
      "text/plain": [
       "True"
      ]
     },
     "execution_count": 7,
     "metadata": {},
     "output_type": "execute_result"
    }
   ],
   "source": [
    "ispalindrome(121)"
   ]
  },
  {
   "cell_type": "code",
   "execution_count": 8,
   "metadata": {},
   "outputs": [
    {
     "data": {
      "text/plain": [
       "False"
      ]
     },
     "execution_count": 8,
     "metadata": {},
     "output_type": "execute_result"
    }
   ],
   "source": [
    "ispalindrome('any')"
   ]
  },
  {
   "cell_type": "markdown",
   "metadata": {},
   "source": [
    "### Qn.5.Write a program in Python with one class called Cipher"
   ]
  },
  {
   "cell_type": "code",
   "execution_count": 11,
   "metadata": {},
   "outputs": [
    {
     "name": "stdout",
     "output_type": "stream",
     "text": [
      "Enter the input string sree\n",
      "\n",
      " Input String is :\tsree\n",
      "\n",
      "Encryption value of given string is :\tyxkk\n",
      "\n",
      "Decrypted value is:\tsree\n"
     ]
    }
   ],
   "source": [
    "import numpy as np\n",
    "class Cipher:\n",
    "    L2I = dict(zip(\"ABCDEFGHIJKLMNOPQRSTUVWXYZabcdefghijklmnopqrstuvwxyz0123456789\",range(62)))\n",
    "    I2L = dict(zip(range(62),\"ABCDEFGHIJKLMNOPQRSTUVWXYZabcdefghijklmnopqrstuvwxyz0123456789\"))\n",
    "    \n",
    "    def __init__(self,Instr=\"\"):\n",
    "        self.Instr=str(input(\"Enter the input string \"))\n",
    "    def encrypt(self,key):\n",
    "        ciphertext = \"\"\n",
    "        Instr=self.Instr\n",
    "        for c in Instr:\n",
    "            if c.isalnum():\n",
    "                ciphertext += self.I2L[(self.L2I[c] + key)]\n",
    "            else: \n",
    "                ciphertext += c\n",
    "        return ciphertext\n",
    "    \n",
    "    def decrypt(self,Enstr,key):\n",
    "        plaintext2 = \"\"\n",
    "        for c in Enstr:\n",
    "            if c.isalnum(): plaintext2 += self.I2L[(self.L2I[c] - key)]\n",
    "            else: plaintext2 += c\n",
    "        return plaintext2\n",
    "\n",
    "k=np.random.randint(1,50,1)\n",
    "key=k[0]\n",
    "c=Cipher()\n",
    "encryptstr=c.encrypt(key)\n",
    "decryptstr=c.decrypt(encryptstr,key)\n",
    "print(\"\\n Input String is :\\t\"+c.Instr)\n",
    "print(\"\\nEncryption value of given string is :\\t\"+encryptstr)\n",
    "print(\"\\nDecrypted value is:\\t\"+decryptstr)\n"
   ]
  },
  {
   "cell_type": "markdown",
   "metadata": {},
   "source": [
    "### Qn.6. Get Data from the following link:\n",
    "\n",
    "         http://files.grouplens.org/datasets/movielens/ml-20m.zip\n"
   ]
  },
  {
   "cell_type": "code",
   "execution_count": null,
   "metadata": {},
   "outputs": [],
   "source": [
    "import numpy as np\n",
    "import pandas as pd"
   ]
  },
  {
   "cell_type": "markdown",
   "metadata": {},
   "source": [
    "#### Qn1.Read the dataset using pandas"
   ]
  },
  {
   "cell_type": "code",
   "execution_count": null,
   "metadata": {},
   "outputs": [],
   "source": [
    "movies=pd.read_csv(\"movies.csv\")\n",
    "tags= pd.read_csv(\"tags.csv\")\n",
    "ratings=pd.read_csv(\"ratings.csv\")"
   ]
  },
  {
   "cell_type": "code",
   "execution_count": null,
   "metadata": {},
   "outputs": [],
   "source": [
    "movies.head(3)"
   ]
  },
  {
   "cell_type": "code",
   "execution_count": null,
   "metadata": {},
   "outputs": [],
   "source": [
    "tags.head(3)"
   ]
  },
  {
   "cell_type": "code",
   "execution_count": null,
   "metadata": {},
   "outputs": [],
   "source": [
    "ratings.head(3)"
   ]
  },
  {
   "cell_type": "markdown",
   "metadata": {},
   "source": [
    "#### Qn.2.Extract first row from tags and print its type"
   ]
  },
  {
   "cell_type": "code",
   "execution_count": null,
   "metadata": {},
   "outputs": [],
   "source": [
    "tags.iloc[0]"
   ]
  },
  {
   "cell_type": "code",
   "execution_count": null,
   "metadata": {},
   "outputs": [],
   "source": [
    "print(type(tags.iloc[0]))"
   ]
  },
  {
   "cell_type": "markdown",
   "metadata": {},
   "source": [
    "#### Qn.3.Extract row 0,11,2000 from tags dataframe"
   ]
  },
  {
   "cell_type": "code",
   "execution_count": null,
   "metadata": {},
   "outputs": [],
   "source": [
    "tags.iloc[[0,11,2000]]"
   ]
  },
  {
   "cell_type": "markdown",
   "metadata": {},
   "source": [
    "#### Qn.4. Print index,columns of the dataframe"
   ]
  },
  {
   "cell_type": "code",
   "execution_count": null,
   "metadata": {},
   "outputs": [],
   "source": [
    "ratings.columns"
   ]
  },
  {
   "cell_type": "code",
   "execution_count": null,
   "metadata": {},
   "outputs": [],
   "source": [
    "ratings.index"
   ]
  },
  {
   "cell_type": "code",
   "execution_count": null,
   "metadata": {},
   "outputs": [],
   "source": [
    "movies.columns"
   ]
  },
  {
   "cell_type": "code",
   "execution_count": null,
   "metadata": {},
   "outputs": [],
   "source": [
    "movies.index"
   ]
  },
  {
   "cell_type": "code",
   "execution_count": null,
   "metadata": {},
   "outputs": [],
   "source": [
    "tags.columns"
   ]
  },
  {
   "cell_type": "code",
   "execution_count": null,
   "metadata": {},
   "outputs": [],
   "source": [
    "tags.index"
   ]
  },
  {
   "cell_type": "markdown",
   "metadata": {},
   "source": [
    "#### Qn.5.Calculate the descriptive statistics for the 'rating' column of the ratings dataframe.Verify using describe"
   ]
  },
  {
   "cell_type": "code",
   "execution_count": null,
   "metadata": {},
   "outputs": [],
   "source": [
    "ratings.head(3)"
   ]
  },
  {
   "cell_type": "code",
   "execution_count": null,
   "metadata": {},
   "outputs": [],
   "source": [
    "print(\"The descriptive statistics for the rating column is:\")\n",
    "print(\"count= \",ratings[\"rating\"].count())\n",
    "print(\"mean= \",ratings[\"rating\"].mean())\n",
    "print(\"std=\", ratings[\"rating\"].std())\n",
    "print(\"min= \",ratings[\"rating\"].min())\n",
    "print(\"50%= \",ratings[\"rating\"].median())\n",
    "print(\"max= \",ratings[\"rating\"].max())"
   ]
  },
  {
   "cell_type": "code",
   "execution_count": null,
   "metadata": {},
   "outputs": [],
   "source": [
    "ratings[\"rating\"].describe()#verifying using desscribe"
   ]
  },
  {
   "cell_type": "markdown",
   "metadata": {},
   "source": [
    "#### Qn.6. Filter out ratings with rating >5"
   ]
  },
  {
   "cell_type": "code",
   "execution_count": null,
   "metadata": {},
   "outputs": [],
   "source": [
    "print(ratings[ratings[\"rating\"]>5])"
   ]
  },
  {
   "cell_type": "markdown",
   "metadata": {},
   "source": [
    "#### Qn.7.Find how many null values,missing values are present.Deal with them.Print out how many rows have been modified"
   ]
  },
  {
   "cell_type": "code",
   "execution_count": null,
   "metadata": {},
   "outputs": [],
   "source": [
    "print(\"Null values in Ratings dataframe :\\n \",ratings.isnull().sum())#finding null values in ratings column\n",
    "print(\"\\nNull values in Movies dataframe :\\n \",movies.isnull().sum())#finding null values in movies column\n",
    "print(\"\\nNull values in Tags dataframe :\\n \",tags.isnull().sum())#finding null values in tags column"
   ]
  },
  {
   "cell_type": "code",
   "execution_count": null,
   "metadata": {},
   "outputs": [],
   "source": [
    "#Only tags dataframe has null values for'tag' and there are 16 null values\n",
    "tags.fillna(method = \"ffill\", inplace=True)# using forward fill to fill in the missing null values \n",
    "print(\"\\nChecking Null values in Tags dataframe after ffill :\\n \",tags.isnull().sum())#finding null values in tags column"
   ]
  },
  {
   "cell_type": "markdown",
   "metadata": {},
   "source": [
    "#### Qn.8.Filter out movies from the movies dataframe that are of type'Animation'"
   ]
  },
  {
   "cell_type": "code",
   "execution_count": null,
   "metadata": {},
   "outputs": [],
   "source": [
    "movies[movies.genres ==\"Animation\"]"
   ]
  },
  {
   "cell_type": "markdown",
   "metadata": {},
   "source": [
    "#### Qn.9.Find the average ratings of movies"
   ]
  },
  {
   "cell_type": "code",
   "execution_count": null,
   "metadata": {},
   "outputs": [],
   "source": [
    "ratings.rating.mean()"
   ]
  },
  {
   "cell_type": "markdown",
   "metadata": {},
   "source": [
    "#### Qn.10.Perform an inner join of movies and tags based on movieId"
   ]
  },
  {
   "cell_type": "code",
   "execution_count": null,
   "metadata": {},
   "outputs": [],
   "source": [
    "result=pd.merge(movies,tags, how = \"inner\", on = \"movieId\")"
   ]
  },
  {
   "cell_type": "code",
   "execution_count": null,
   "metadata": {},
   "outputs": [],
   "source": [
    "result.head()"
   ]
  },
  {
   "cell_type": "markdown",
   "metadata": {},
   "source": [
    "#### Qn.11.Print out the 5 movies that belong to the Comedy genre and having rating greater than 4"
   ]
  },
  {
   "cell_type": "code",
   "execution_count": null,
   "metadata": {},
   "outputs": [],
   "source": [
    "df1=pd.merge(movies,ratings, how = \"inner\", on = \"movieId\")#performing inner join based on movieid and creating a dataframe df1"
   ]
  },
  {
   "cell_type": "code",
   "execution_count": null,
   "metadata": {},
   "outputs": [],
   "source": [
    "c1=df1[(df1[\"genres\"] ==\"Comedy\") & (df1[\"rating\"] >4)] # applying condition for df1"
   ]
  },
  {
   "cell_type": "code",
   "execution_count": null,
   "metadata": {},
   "outputs": [],
   "source": [
    "c1.head()"
   ]
  },
  {
   "cell_type": "markdown",
   "metadata": {},
   "source": [
    "#### Qn.12.Split 'genres' into multiple columns"
   ]
  },
  {
   "cell_type": "code",
   "execution_count": null,
   "metadata": {},
   "outputs": [],
   "source": [
    "new = movies[\"genres\"].str.split(\"|\", expand = True) \n",
    "new.head()"
   ]
  },
  {
   "cell_type": "markdown",
   "metadata": {},
   "source": [
    "#### Qn.13. Extract year from title, e.g.(1995)"
   ]
  },
  {
   "cell_type": "code",
   "execution_count": null,
   "metadata": {},
   "outputs": [],
   "source": [
    "movies['year'] = movies['title']\n",
    "movies['year']=movies.year.str[-6:]"
   ]
  },
  {
   "cell_type": "code",
   "execution_count": null,
   "metadata": {},
   "outputs": [],
   "source": [
    "movies.head()"
   ]
  },
  {
   "cell_type": "markdown",
   "metadata": {},
   "source": [
    "#### Qn.14. Select rows based on timestamps later than 2015-02-01"
   ]
  },
  {
   "cell_type": "code",
   "execution_count": null,
   "metadata": {},
   "outputs": [],
   "source": [
    "tags[\"times\"]=pd.to_datetime(tags[\"timestamp\"], format = '%Y-%m-%d', exact = True)\n",
    "ratings[\"times\"]=pd.to_datetime(ratings[\"timestamp\"], format = '%Y-%m-%d', exact = True)\n",
    "print(\"\\nTags\\n\",tags[tags[\"times\"]> '2015-02-01'])\n",
    "print(\"\\nRatings\\n\",ratings[ratings[\"times\"]> '2015-02-01'])"
   ]
  },
  {
   "cell_type": "markdown",
   "metadata": {},
   "source": [
    "#### Qn.15. Sort the tags dataframe based on timestamp"
   ]
  },
  {
   "cell_type": "code",
   "execution_count": null,
   "metadata": {},
   "outputs": [],
   "source": [
    "sorted_tags=tags.sort_values(by=['timestamp'])\n",
    "sorted_tags.head()"
   ]
  },
  {
   "cell_type": "code",
   "execution_count": null,
   "metadata": {},
   "outputs": [],
   "source": []
  }
 ],
 "metadata": {
  "kernelspec": {
   "display_name": "Python 3",
   "language": "python",
   "name": "python3"
  },
  "language_info": {
   "codemirror_mode": {
    "name": "ipython",
    "version": 3
   },
   "file_extension": ".py",
   "mimetype": "text/x-python",
   "name": "python",
   "nbconvert_exporter": "python",
   "pygments_lexer": "ipython3",
   "version": "3.7.1"
  }
 },
 "nbformat": 4,
 "nbformat_minor": 2
}
